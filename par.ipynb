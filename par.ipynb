{
 "cells": [
  {
   "cell_type": "code",
   "execution_count": 1,
   "metadata": {},
   "outputs": [],
   "source": [
    "from bs4 import BeautifulSoup\n",
    "import requests"
   ]
  },
  {
   "cell_type": "code",
   "execution_count": 15,
   "metadata": {},
   "outputs": [],
   "source": [
    "with open(\"C:\\\\Users\\Asish\\\\Desktop\\\\eztv_parser\\\\eztv.html\") as html_file:\n",
    "    soup = BeautifulSoup(html_file,'lxml')"
   ]
  },
  {
   "cell_type": "code",
   "execution_count": 22,
   "metadata": {},
   "outputs": [
    {
     "name": "stdout",
     "output_type": "stream",
     "text": [
      "<td class=\"forum_thread_post\">\n",
      "<b><u>eztv.io is the new domain in use for EZTV Group.</u></b>\n",
      "<span style=\"margin-left:75px;\">Go to <a href=\"https://eztvstatus.com\" title=\"EZTV Status\"><img alt=\"EZTV Status\" border=\"0\" height=\"15\" src=\"/images/eztvstatus.png\" style=\"vertical-align: middle;\" width=\"80\"/></a> for official proxies.</span>\n",
      "<br/>\n",
      "also official EZTV domains: <b>eztv.re</b>, <b>eztv.ag</b>, <b>eztv.it</b>, <b>eztv.ch</b>.\n",
      "<br/><br/>\n",
      "Send ideas, report bugs and ask questions at <a href=\"/cdn-cgi/l/email-protection#345a5b42555f5d5a5374514e40421a575c0b4741565e51574009716e606214775b5a40555740\"><span class=\"__cf_email__\" data-cfemail=\"afc1c0d9cec4c6c1c8efcad5dbd981ccc7\">[email protected]</span></a>\n",
      "<span style=\"margin-left:60px;\">Call for Action » <a href=\"/faq/\"><b>Help EZTV with Seeding!</b></a></span>\n",
      "<br/>\n",
      "</td>\n"
     ]
    }
   ],
   "source": [
    "match=soup.find('td',class_=\"forum_thread_post\")\n",
    "print(match)"
   ]
  },
  {
   "cell_type": "code",
   "execution_count": null,
   "metadata": {},
   "outputs": [],
   "source": []
  }
 ],
 "metadata": {
  "kernelspec": {
   "display_name": "Python 3",
   "language": "python",
   "name": "python3"
  },
  "language_info": {
   "codemirror_mode": {
    "name": "ipython",
    "version": 3
   },
   "file_extension": ".py",
   "mimetype": "text/x-python",
   "name": "python",
   "nbconvert_exporter": "python",
   "pygments_lexer": "ipython3",
   "version": "3.7.3"
  }
 },
 "nbformat": 4,
 "nbformat_minor": 2
}
